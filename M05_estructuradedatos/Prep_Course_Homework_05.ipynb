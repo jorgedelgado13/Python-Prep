{
 "cells": [
  {
   "attachments": {},
   "cell_type": "markdown",
   "metadata": {},
   "source": [
    "## Estructuras de Datos"
   ]
  },
  {
   "attachments": {},
   "cell_type": "markdown",
   "metadata": {},
   "source": [
    "1) Crear una lista que contenga nombres de ciudades del mundo que contenga más de 5 elementos e imprimir por pantalla"
   ]
  },
  {
   "cell_type": "code",
   "execution_count": 2,
   "metadata": {},
   "outputs": [
    {
     "name": "stdout",
     "output_type": "stream",
     "text": [
      "['Medellin', 'Sao Paulo', 'Santiago', 'Amsterdam', 'Berlin', 'Vienna']\n"
     ]
    }
   ],
   "source": [
    "ciudades_del_mundo=[\"Medellin\",\"Sao Paulo\",\"Santiago\",\"Amsterdam\",\"Berlin\",\"Vienna\"]\n",
    "print(ciudades_del_mundo)"
   ]
  },
  {
   "attachments": {},
   "cell_type": "markdown",
   "metadata": {},
   "source": [
    "2) Imprimir por pantalla el segundo elemento de la lista"
   ]
  },
  {
   "cell_type": "code",
   "execution_count": 3,
   "metadata": {},
   "outputs": [
    {
     "name": "stdout",
     "output_type": "stream",
     "text": [
      "Sao Paulo\n"
     ]
    }
   ],
   "source": [
    "ciudad_numero_2=ciudades_del_mundo[1]\n",
    "print(ciudad_numero_2)"
   ]
  },
  {
   "attachments": {},
   "cell_type": "markdown",
   "metadata": {},
   "source": [
    "3) Imprimir por pantalla del segundo al cuarto elemento"
   ]
  },
  {
   "cell_type": "code",
   "execution_count": 14,
   "metadata": {},
   "outputs": [
    {
     "name": "stdout",
     "output_type": "stream",
     "text": [
      "['Sao Paulo', 'Santiago', 'Amsterdam']\n"
     ]
    }
   ],
   "source": [
    "ciudades_2_a_4=ciudades_del_mundo[1:4]\n",
    "print(ciudades_2_a_4)"
   ]
  },
  {
   "attachments": {},
   "cell_type": "markdown",
   "metadata": {},
   "source": [
    "4) Visualizar el tipo de dato de la lista"
   ]
  },
  {
   "cell_type": "code",
   "execution_count": 6,
   "metadata": {},
   "outputs": [
    {
     "name": "stdout",
     "output_type": "stream",
     "text": [
      "<class 'list'>\n"
     ]
    }
   ],
   "source": [
    "tipo_de_dato_lista=type(ciudades_del_mundo)\n",
    "print(tipo_de_dato_lista)"
   ]
  },
  {
   "attachments": {},
   "cell_type": "markdown",
   "metadata": {},
   "source": [
    "5) Visualizar todos los elementos de la lista a partir del tercero de manera genérica, es decir, sin explicitar la posición del último elemento"
   ]
  },
  {
   "cell_type": "code",
   "execution_count": 7,
   "metadata": {},
   "outputs": [
    {
     "name": "stdout",
     "output_type": "stream",
     "text": [
      "['Santiago', 'Amsterdam', 'Berlin', 'Vienna']\n"
     ]
    }
   ],
   "source": [
    "elementos_desde_el_tercero = ciudades_del_mundo[2:]\n",
    "print(elementos_desde_el_tercero)"
   ]
  },
  {
   "attachments": {},
   "cell_type": "markdown",
   "metadata": {},
   "source": [
    "6) Visualizar los primeros 4 elementos de la lista"
   ]
  },
  {
   "cell_type": "code",
   "execution_count": 9,
   "metadata": {},
   "outputs": [
    {
     "name": "stdout",
     "output_type": "stream",
     "text": [
      "['Medellin', 'Sao Paulo', 'Santiago', 'Amsterdam']\n"
     ]
    }
   ],
   "source": [
    "elementos_primeros_4 = ciudades_del_mundo[:4]\n",
    "print(elementos_primeros_4)"
   ]
  },
  {
   "attachments": {},
   "cell_type": "markdown",
   "metadata": {},
   "source": [
    "7) Agregar una ciudad más a la lista que ya exista y otra que no ¿Arroja algún tipo de error?"
   ]
  },
  {
   "cell_type": "code",
   "execution_count": 16,
   "metadata": {},
   "outputs": [
    {
     "name": "stdout",
     "output_type": "stream",
     "text": [
      "['Medellin', 'Sao Paulo', 'Santiago', 'Amsterdam', 'Berlin', 'Vienna', 'Sevilla', 'Tokio', 'Sevilla', 'Tokio']\n"
     ]
    }
   ],
   "source": [
    "ciudades_del_mundo.append(\"Sevilla\")\n",
    "ciudades_del_mundo.append(\"Tokio\")\n",
    "print(ciudades_del_mundo)"
   ]
  },
  {
   "attachments": {},
   "cell_type": "markdown",
   "metadata": {},
   "source": [
    "8) Agregar otra ciudad, pero en la cuarta posición"
   ]
  },
  {
   "cell_type": "code",
   "execution_count": 17,
   "metadata": {},
   "outputs": [
    {
     "name": "stdout",
     "output_type": "stream",
     "text": [
      "['Medellin', 'Sao Paulo', 'Santiago', 'Cuenca', 'Amsterdam', 'Berlin', 'Vienna', 'Sevilla', 'Tokio', 'Sevilla', 'Tokio']\n"
     ]
    }
   ],
   "source": [
    "ciudades_del_mundo.insert(3,\"Cuenca\")\n",
    "print(ciudades_del_mundo)"
   ]
  },
  {
   "attachments": {},
   "cell_type": "markdown",
   "metadata": {},
   "source": [
    "9) Concatenar otra lista a la ya creada"
   ]
  },
  {
   "cell_type": "code",
   "execution_count": 18,
   "metadata": {},
   "outputs": [
    {
     "name": "stdout",
     "output_type": "stream",
     "text": [
      "['Medellin', 'Sao Paulo', 'Santiago', 'Cuenca', 'Amsterdam', 'Berlin', 'Vienna', 'Sevilla', 'Tokio', 'Sevilla', 'Tokio', 'New York', 'Los Angeles', 'Miami']\n"
     ]
    }
   ],
   "source": [
    "eeuu = [\"New York\", \"Los Angeles\", \"Miami\"]\n",
    "ciudades_del_mundo.extend(eeuu)\n",
    "print(ciudades_del_mundo)\n"
   ]
  },
  {
   "attachments": {},
   "cell_type": "markdown",
   "metadata": {},
   "source": [
    "10) Encontrar el índice de la ciudad que en el punto 7 agregamos duplicada. ¿Se nota alguna particularidad?"
   ]
  },
  {
   "cell_type": "code",
   "execution_count": 20,
   "metadata": {},
   "outputs": [
    {
     "data": {
      "text/plain": [
       "7"
      ]
     },
     "execution_count": 20,
     "metadata": {},
     "output_type": "execute_result"
    }
   ],
   "source": [
    "ciudades_del_mundo.index(\"Sevilla\")\n"
   ]
  },
  {
   "attachments": {},
   "cell_type": "markdown",
   "metadata": {},
   "source": [
    "11) ¿Qué pasa si se busca un elemento que no existe?"
   ]
  },
  {
   "cell_type": "code",
   "execution_count": 21,
   "metadata": {},
   "outputs": [
    {
     "ename": "ValueError",
     "evalue": "'Birmingham' is not in list",
     "output_type": "error",
     "traceback": [
      "\u001b[1;31m---------------------------------------------------------------------------\u001b[0m",
      "\u001b[1;31mValueError\u001b[0m                                Traceback (most recent call last)",
      "Cell \u001b[1;32mIn[21], line 1\u001b[0m\n\u001b[1;32m----> 1\u001b[0m ciudades_del_mundo\u001b[39m.\u001b[39;49mindex(\u001b[39m\"\u001b[39;49m\u001b[39mBirmingham\u001b[39;49m\u001b[39m\"\u001b[39;49m)\n",
      "\u001b[1;31mValueError\u001b[0m: 'Birmingham' is not in list"
     ]
    }
   ],
   "source": [
    "ciudades_del_mundo.index(\"Birmingham\")"
   ]
  },
  {
   "attachments": {},
   "cell_type": "markdown",
   "metadata": {},
   "source": [
    "12) Eliminar un elemento de la lista"
   ]
  },
  {
   "cell_type": "code",
   "execution_count": 23,
   "metadata": {},
   "outputs": [
    {
     "name": "stdout",
     "output_type": "stream",
     "text": [
      "['Medellin', 'Sao Paulo', 'Santiago', 'Cuenca', 'Amsterdam', 'Berlin', 'Vienna', 'Sevilla', 'Tokio', 'Sevilla', 'Tokio', 'New York', 'Los Angeles']\n"
     ]
    }
   ],
   "source": [
    "ciudades_del_mundo.remove(\"Miami\")\n",
    "print(ciudades_del_mundo)"
   ]
  },
  {
   "attachments": {},
   "cell_type": "markdown",
   "metadata": {},
   "source": [
    "13) ¿Qué pasa si el elemento a eliminar no existe?"
   ]
  },
  {
   "cell_type": "code",
   "execution_count": 24,
   "metadata": {},
   "outputs": [
    {
     "ename": "ValueError",
     "evalue": "list.remove(x): x not in list",
     "output_type": "error",
     "traceback": [
      "\u001b[1;31m---------------------------------------------------------------------------\u001b[0m",
      "\u001b[1;31mValueError\u001b[0m                                Traceback (most recent call last)",
      "Cell \u001b[1;32mIn[24], line 1\u001b[0m\n\u001b[1;32m----> 1\u001b[0m ciudades_del_mundo\u001b[39m.\u001b[39;49mremove(\u001b[39m\"\u001b[39;49m\u001b[39mCanarias\u001b[39;49m\u001b[39m\"\u001b[39;49m)\n\u001b[0;32m      2\u001b[0m \u001b[39mprint\u001b[39m(ciudades_del_mundo)\n",
      "\u001b[1;31mValueError\u001b[0m: list.remove(x): x not in list"
     ]
    }
   ],
   "source": [
    "ciudades_del_mundo.remove(\"Canarias\")\n",
    "print(ciudades_del_mundo)"
   ]
  },
  {
   "attachments": {},
   "cell_type": "markdown",
   "metadata": {},
   "source": [
    "14) Extraer el úlimo elemento de la lista, guardarlo en una variable e imprimirlo"
   ]
  },
  {
   "cell_type": "code",
   "execution_count": 25,
   "metadata": {},
   "outputs": [
    {
     "name": "stdout",
     "output_type": "stream",
     "text": [
      "Los Angeles\n"
     ]
    }
   ],
   "source": [
    "ultimo = ciudades_del_mundo.pop()\n",
    "print(ultimo)"
   ]
  },
  {
   "attachments": {},
   "cell_type": "markdown",
   "metadata": {},
   "source": [
    "15) Mostrar la lista multiplicada por 4"
   ]
  },
  {
   "cell_type": "code",
   "execution_count": 26,
   "metadata": {},
   "outputs": [
    {
     "name": "stdout",
     "output_type": "stream",
     "text": [
      "['Medellin', 'Sao Paulo', 'Santiago', 'Cuenca', 'Amsterdam', 'Berlin', 'Vienna', 'Sevilla', 'Tokio', 'Sevilla', 'Tokio', 'New York', 'Medellin', 'Sao Paulo', 'Santiago', 'Cuenca', 'Amsterdam', 'Berlin', 'Vienna', 'Sevilla', 'Tokio', 'Sevilla', 'Tokio', 'New York', 'Medellin', 'Sao Paulo', 'Santiago', 'Cuenca', 'Amsterdam', 'Berlin', 'Vienna', 'Sevilla', 'Tokio', 'Sevilla', 'Tokio', 'New York', 'Medellin', 'Sao Paulo', 'Santiago', 'Cuenca', 'Amsterdam', 'Berlin', 'Vienna', 'Sevilla', 'Tokio', 'Sevilla', 'Tokio', 'New York']\n"
     ]
    }
   ],
   "source": [
    "print(ciudades_del_mundo*4)"
   ]
  },
  {
   "attachments": {},
   "cell_type": "markdown",
   "metadata": {},
   "source": [
    "16) Crear una tupla que contenga los números enteros del 1 al 20"
   ]
  },
  {
   "cell_type": "code",
   "execution_count": 27,
   "metadata": {},
   "outputs": [
    {
     "name": "stdout",
     "output_type": "stream",
     "text": [
      "(1, 2, 3, 4, 5, 6, 7, 8, 9, 10, 11, 12, 13, 14, 15, 16, 17, 18, 19, 20)\n"
     ]
    }
   ],
   "source": [
    "numeros_del_1_al_20 = (1,2,3,4,5,6,7,8,9,10,11,12,13,14,15,16,17,18,19,20)\n",
    "print(numeros_del_1_al_20)"
   ]
  },
  {
   "attachments": {},
   "cell_type": "markdown",
   "metadata": {},
   "source": [
    "17) Imprimir desde el índice 10 al 15 de la tupla"
   ]
  },
  {
   "cell_type": "code",
   "execution_count": 30,
   "metadata": {},
   "outputs": [
    {
     "name": "stdout",
     "output_type": "stream",
     "text": [
      "(10, 11, 12, 13, 14, 15)\n"
     ]
    }
   ],
   "source": [
    "print(numeros_del_1_al_20[9:15])"
   ]
  },
  {
   "attachments": {},
   "cell_type": "markdown",
   "metadata": {},
   "source": [
    "18) Evaluar si los números 20 y 30 están dentro de la tupla"
   ]
  },
  {
   "cell_type": "code",
   "execution_count": 32,
   "metadata": {},
   "outputs": [
    {
     "name": "stdout",
     "output_type": "stream",
     "text": [
      "True\n",
      "False\n"
     ]
    }
   ],
   "source": [
    "print(20 in numeros_del_1_al_20)\n",
    "print(30 in numeros_del_1_al_20)"
   ]
  },
  {
   "attachments": {},
   "cell_type": "markdown",
   "metadata": {},
   "source": [
    "19) Con la lista creada en el punto 1, validar la existencia del elemento 'París' y si no existe, agregarlo. Utilizar una variable e informar lo sucedido."
   ]
  },
  {
   "cell_type": "code",
   "execution_count": 34,
   "metadata": {},
   "outputs": [
    {
     "data": {
      "text/plain": [
       "12"
      ]
     },
     "execution_count": 34,
     "metadata": {},
     "output_type": "execute_result"
    }
   ],
   "source": [
    "ciudades_del_mundo.append(\"Paris\")\n",
    "ciudades_del_mundo.index(\"Paris\")"
   ]
  },
  {
   "attachments": {},
   "cell_type": "markdown",
   "metadata": {},
   "source": [
    "20) Mostrar la cantidad de veces que se encuentra un elemento específico dentro de la tupla y de la lista"
   ]
  },
  {
   "cell_type": "code",
   "execution_count": 36,
   "metadata": {},
   "outputs": [
    {
     "name": "stdout",
     "output_type": "stream",
     "text": [
      "1\n",
      "1\n"
     ]
    }
   ],
   "source": [
    "print(ciudades_del_mundo.count(\"Paris\"))\n",
    "print(numeros_del_1_al_20.count(1))\n"
   ]
  },
  {
   "attachments": {},
   "cell_type": "markdown",
   "metadata": {},
   "source": [
    "21) Convertir la tupla en una lista"
   ]
  },
  {
   "cell_type": "code",
   "execution_count": 37,
   "metadata": {},
   "outputs": [
    {
     "name": "stdout",
     "output_type": "stream",
     "text": [
      "<class 'list'>\n",
      "['Medellin', 'Sao Paulo', 'Santiago', 'Cuenca', 'Amsterdam', 'Berlin', 'Vienna', 'Sevilla', 'Tokio', 'Sevilla', 'Tokio', 'New York', 'Paris']\n"
     ]
    }
   ],
   "source": [
    "lista_de_una_tupla = list(ciudades_del_mundo)\n",
    "print(type(ciudades_del_mundo))\n",
    "print(ciudades_del_mundo)"
   ]
  },
  {
   "attachments": {},
   "cell_type": "markdown",
   "metadata": {},
   "source": [
    "22) Desempaquetar solo los primeros 3 elementos de la tupla en 3 variables"
   ]
  },
  {
   "cell_type": "code",
   "execution_count": 39,
   "metadata": {},
   "outputs": [
    {
     "name": "stdout",
     "output_type": "stream",
     "text": [
      "1\n",
      "2\n",
      "3\n"
     ]
    }
   ],
   "source": [
    "uno,dos,tres,_,_,_,_,_,_,_,_,_,_,_,_,_,_,_,_,_ = numeros_del_1_al_20\n",
    "print(uno)\n",
    "print(dos)\n",
    "print(3)"
   ]
  },
  {
   "attachments": {},
   "cell_type": "markdown",
   "metadata": {},
   "source": [
    "23) Crear un diccionario utilizando la lista crada en el punto 1, asignandole la clave \"ciudad\". Agregar tambien otras claves, como puede ser \"Pais\" y \"Continente\"."
   ]
  },
  {
   "cell_type": "code",
   "execution_count": 44,
   "metadata": {},
   "outputs": [
    {
     "name": "stdout",
     "output_type": "stream",
     "text": [
      "{'ciudad': ['Medellin', 'Sao Paulo', 'Santiago', 'Cuenca', 'Amsterdam', 'Berlin', 'Vienna', 'Sevilla', 'Tokio', 'Sevilla', 'Tokio', 'New York', 'Paris'], 'pais': ['ecuador', 'uruguay', 'chile', 'venezuela', 'peru', 'argentina', 'brazil', 'chile', 'noruega', 'finlandia', 'marruecos', 'españa', 'estonia'], 'continente': ['america', 'america', 'america', 'america', 'america', 'america', 'america', 'america', 'america', 'america', 'america', 'europa', 'europa']}\n"
     ]
    }
   ],
   "source": [
    "diccionario1={\"ciudad\":ciudades_del_mundo, \n",
    "              \"pais\":[\"ecuador\",\"uruguay\",\"chile\",\"venezuela\",\"peru\",\"argentina\",\"brazil\",\"chile\",\"noruega\",\"finlandia\",\"marruecos\",\"españa\",\"estonia\"],\n",
    "              \"continente\":[\"america\",\"america\",\"america\",\"america\",\"america\",\"america\",\"america\",\"america\",\"america\",\"america\",\"america\",\"europa\",\"europa\"]}\n",
    "print(diccionario1)"
   ]
  },
  {
   "attachments": {},
   "cell_type": "markdown",
   "metadata": {},
   "source": [
    "24) Imprimir las claves del diccionario"
   ]
  },
  {
   "cell_type": "code",
   "execution_count": 45,
   "metadata": {},
   "outputs": [
    {
     "name": "stdout",
     "output_type": "stream",
     "text": [
      "dict_keys(['ciudad', 'pais', 'continente'])\n"
     ]
    }
   ],
   "source": [
    "print(diccionario1.keys())"
   ]
  },
  {
   "attachments": {},
   "cell_type": "markdown",
   "metadata": {},
   "source": [
    "25) Imprimir las ciudades a través de su clave"
   ]
  },
  {
   "cell_type": "code",
   "execution_count": 48,
   "metadata": {},
   "outputs": [
    {
     "name": "stdout",
     "output_type": "stream",
     "text": [
      "['Medellin', 'Sao Paulo', 'Santiago', 'Cuenca', 'Amsterdam', 'Berlin', 'Vienna', 'Sevilla', 'Tokio', 'Sevilla', 'Tokio', 'New York', 'Paris']\n"
     ]
    }
   ],
   "source": [
    "print(diccionario1[\"ciudad\"])"
   ]
  }
 ],
 "metadata": {
  "interpreter": {
   "hash": "c85384e4cb51c8b72350f3a8712cc8351fdc3955e32a27f9b60c6242ab125f01"
  },
  "kernelspec": {
   "display_name": "Python 3 (ipykernel)",
   "language": "python",
   "name": "python3"
  },
  "language_info": {
   "codemirror_mode": {
    "name": "ipython",
    "version": 3
   },
   "file_extension": ".py",
   "mimetype": "text/x-python",
   "name": "python",
   "nbconvert_exporter": "python",
   "pygments_lexer": "ipython3",
   "version": "3.11.5"
  }
 },
 "nbformat": 4,
 "nbformat_minor": 4
}
